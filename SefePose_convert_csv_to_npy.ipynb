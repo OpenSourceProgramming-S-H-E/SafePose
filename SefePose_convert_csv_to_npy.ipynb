{
 "cells": [
  {
   "cell_type": "code",
   "execution_count": null,
   "id": "eb8cbd08",
   "metadata": {},
   "outputs": [
    {
     "name": "stdout",
     "output_type": "stream",
     "text": [
      "Cloning into 'SafePose'...\n",
      "remote: Enumerating objects: 26, done.\u001b[K\n",
      "remote: Counting objects: 100% (26/26), done.\u001b[K\n",
      "remote: Compressing objects: 100% (22/22), done.\u001b[K\n",
      "remote: Total 26 (delta 5), reused 19 (delta 1), pack-reused 0 (from 0)\u001b[K\n",
      "Receiving objects: 100% (26/26), 15.85 MiB | 14.41 MiB/s, done.\n",
      "Resolving deltas: 100% (5/5), done.\n"
     ]
    }
   ],
   "source": [
    "!git clone https://github.com/OpenSourceProgramming-S-H-E/SafePose.git"
   ]
  },
  {
   "cell_type": "code",
   "execution_count": null,
   "id": "7bf89876",
   "metadata": {},
   "outputs": [
    {
     "name": "stdout",
     "output_type": "stream",
     "text": [
      "/content/SafePose\n"
     ]
    }
   ],
   "source": [
    "%cd SafePose"
   ]
  },
  {
   "cell_type": "code",
   "execution_count": null,
   "id": "d05db112",
   "metadata": {},
   "outputs": [
    {
     "name": "stdout",
     "output_type": "stream",
     "text": [
      "Branch 'develop' set up to track remote branch 'develop' from 'origin'.\n",
      "Switched to a new branch 'develop'\n"
     ]
    }
   ],
   "source": [
    "! git checkout develop"
   ]
  },
  {
   "cell_type": "code",
   "execution_count": null,
   "id": "88ddf17e",
   "metadata": {},
   "outputs": [
    {
     "name": "stdout",
     "output_type": "stream",
     "text": [
      "code  keypoint\tkeypoint_con  SafePose.ipynb\n"
     ]
    }
   ],
   "source": [
    "!ls"
   ]
  },
  {
   "cell_type": "code",
   "execution_count": null,
   "id": "c2dbf105",
   "metadata": {},
   "outputs": [
    {
     "name": "stdout",
     "output_type": "stream",
     "text": [
      "  class video_folder           frame  keypoint_index         x         y  \\\n",
      "0  Fall      fall_01  frame_0000.jpg               0  0.446386  0.357385   \n",
      "1  Fall      fall_01  frame_0000.jpg               1  0.454791  0.350321   \n",
      "2  Fall      fall_01  frame_0000.jpg               2  0.437988  0.350087   \n",
      "3  Fall      fall_01  frame_0000.jpg               3  0.461094  0.347411   \n",
      "4  Fall      fall_01  frame_0000.jpg               4  0.424107  0.350340   \n",
      "\n",
      "   confidence  \n",
      "0    0.596156  \n",
      "1    0.595182  \n",
      "2    0.523923  \n",
      "3    0.637590  \n",
      "4    0.589970  \n"
     ]
    }
   ],
   "source": [
    "# 키프레임 추출한 csv 파일 추출(fall)\n",
    "\n",
    "import pandas as pd\n",
    "url = \"https://raw.githubusercontent.com/OpenSourceProgramming-S-H-E/SafePose/refs/heads/develop/keypoint_con/keypoints_fall_con.csv\"\n",
    "df1 = pd.read_csv(url)\n",
    "\n",
    "print(df1.head())"
   ]
  },
  {
   "cell_type": "code",
   "execution_count": null,
   "id": "cee9dff1",
   "metadata": {},
   "outputs": [
    {
     "name": "stdout",
     "output_type": "stream",
     "text": [
      "총 시퀀스 개수: 30\n",
      "첫 시퀀스 shape: (259, 34)\n"
     ]
    }
   ],
   "source": [
    "# long format -> 모델에 입력받을 시퀀스 형태로 저장(fall)\n",
    "import numpy as np\n",
    "\n",
    "all_sequences = []\n",
    "all_labels = []\n",
    "\n",
    "for i in range(1, 31):\n",
    "    video_id = f\"fall_{i:02d}\"  # fall_01, fall_02, ..., fall_30\n",
    "    df_video = df1[(df1[\"video_folder\"] == video_id) & (df1[\"class\"] == \"Fall\")]\n",
    "    if df_video.empty:\n",
    "        print(f\"{video_id} 데이터가 없습니다.\")\n",
    "        continue\n",
    "\n",
    "    df_video = df_video.sort_values(by=[\"frame\", \"keypoint_index\"])\n",
    "    frames = df_video[\"frame\"].unique()\n",
    "\n",
    "    sequence = []\n",
    "    for f in frames:\n",
    "        df_frame = df_video[df_video[\"frame\"] == f]\n",
    "        coords = df_frame[[\"x\", \"y\"]].values.flatten()\n",
    "        sequence.append(coords)\n",
    "\n",
    "    sequence = np.stack(sequence)  # (프레임 수, 34)\n",
    "    all_sequences.append(sequence)\n",
    "    all_labels.append(2) # 낙상 클래스2\n",
    "\n",
    "print(f\"총 시퀀스 개수: {len(all_sequences)}\")\n",
    "print(f\"첫 시퀀스 shape: {all_sequences[0].shape}\")\n",
    "\n"
   ]
  },
  {
   "cell_type": "code",
   "execution_count": null,
   "id": "a20ec29d",
   "metadata": {},
   "outputs": [
    {
     "name": "stdout",
     "output_type": "stream",
     "text": [
      "        class video_folder           frame  keypoint_index         x  \\\n",
      "0  Suspicious       sus_01  frame_0000.jpg               0  0.409221   \n",
      "1  Suspicious       sus_01  frame_0000.jpg               1  0.406523   \n",
      "2  Suspicious       sus_01  frame_0000.jpg               2  0.415394   \n",
      "3  Suspicious       sus_01  frame_0000.jpg               3  0.393519   \n",
      "4  Suspicious       sus_01  frame_0000.jpg               4  0.415428   \n",
      "\n",
      "          y  confidence  \n",
      "0  0.345961    0.159283  \n",
      "1  0.336220    0.075232  \n",
      "2  0.335941    0.130593  \n",
      "3  0.328424    0.122683  \n",
      "4  0.330966    0.161106  \n"
     ]
    }
   ],
   "source": [
    "# 키프레임 추출한 csv 파일 추출(suspicious)\n",
    "\n",
    "url = \"https://raw.githubusercontent.com/OpenSourceProgramming-S-H-E/SafePose/refs/heads/develop/keypoint_con/keypoints_suspicious_con.csv\"\n",
    "df2 = pd.read_csv(url)\n",
    "\n",
    "print(df2.head())"
   ]
  },
  {
   "cell_type": "code",
   "execution_count": null,
   "id": "6e9c2d34",
   "metadata": {},
   "outputs": [
    {
     "name": "stdout",
     "output_type": "stream",
     "text": [
      "sus_04 데이터가 없습니다.\n",
      "총 시퀀스 개수: 20\n",
      "첫 시퀀스 shape: (252, 34)\n"
     ]
    }
   ],
   "source": [
    "# long format -> 모델에 입력받을 시퀀스 형태로 저장(suspicious)\n",
    "\n",
    "all_sequences1 = []\n",
    "all_labels1 = []\n",
    "\n",
    "for i in range(1, 22):\n",
    "    video_id = f\"sus_{i:02d}\"\n",
    "    df_video = df2[(df2[\"video_folder\"] == video_id) & (df2[\"class\"] == \"Suspicious\")]\n",
    "    if df_video.empty:\n",
    "        print(f\"{video_id} 데이터가 없습니다.\")\n",
    "        continue\n",
    "\n",
    "    df_video = df_video.sort_values(by=[\"frame\", \"keypoint_index\"])\n",
    "    frames = df_video[\"frame\"].unique()\n",
    "\n",
    "    sequence = []\n",
    "    for f in frames:\n",
    "        df_frame = df_video[df_video[\"frame\"] == f]\n",
    "        coords = df_frame[[\"x\", \"y\"]].values.flatten()\n",
    "        sequence.append(coords)\n",
    "\n",
    "    sequence = np.stack(sequence)  # (프레임 수, 34)\n",
    "    all_sequences1.append(sequence)\n",
    "    all_labels1.append(1) # 위험 클래스 1\n",
    "\n",
    "print(f\"총 시퀀스 개수: {len(all_sequences1)}\")\n",
    "print(f\"첫 시퀀스 shape: {all_sequences1[0].shape}\")"
   ]
  },
  {
   "cell_type": "code",
   "execution_count": null,
   "id": "dfae0d05",
   "metadata": {},
   "outputs": [
    {
     "name": "stdout",
     "output_type": "stream",
     "text": [
      "    class video_folder           frame  keypoint_index         x         y  \\\n",
      "0  Normal    normal_01  frame_0000.jpg               0  0.491582  0.362946   \n",
      "1  Normal    normal_01  frame_0000.jpg               1  0.499338  0.356676   \n",
      "2  Normal    normal_01  frame_0000.jpg               2  0.483186  0.354573   \n",
      "3  Normal    normal_01  frame_0000.jpg               3  0.507564  0.360179   \n",
      "4  Normal    normal_01  frame_0000.jpg               4  0.473766  0.356689   \n",
      "\n",
      "   confidence  \n",
      "0    0.491786  \n",
      "1    0.523412  \n",
      "2    0.572754  \n",
      "3    0.681367  \n",
      "4    0.676613  \n"
     ]
    }
   ],
   "source": [
    "url = \"https://raw.githubusercontent.com/OpenSourceProgramming-S-H-E/SafePose/refs/heads/develop/keypoint_con/keypoints_normal_con.csv\"\n",
    "df3 = pd.read_csv(url)\n",
    "\n",
    "print(df3.head())"
   ]
  },
  {
   "cell_type": "code",
   "execution_count": null,
   "id": "2f51ccbd",
   "metadata": {},
   "outputs": [
    {
     "name": "stdout",
     "output_type": "stream",
     "text": [
      "normal_28 데이터가 없습니다.\n",
      "총 시퀀스 개수: 33\n",
      "첫 시퀀스 shape: (271, 34)\n"
     ]
    }
   ],
   "source": [
    "# long format -> 모델에 입력받을 시퀀스 형태로 저장(normal)\n",
    "\n",
    "all_sequences2 = []\n",
    "all_labels2 = []\n",
    "\n",
    "for i in range(1, 35):\n",
    "    video_id = f\"normal_{i:02d}\"\n",
    "    df_video = df3[(df3[\"video_folder\"] == video_id) & (df3[\"class\"] == \"Normal\")]\n",
    "    if df_video.empty:\n",
    "        print(f\"{video_id} 데이터가 없습니다.\")\n",
    "        continue\n",
    "\n",
    "    df_video = df_video.sort_values(by=[\"frame\", \"keypoint_index\"])\n",
    "    frames = df_video[\"frame\"].unique()\n",
    "\n",
    "    sequence = []\n",
    "    for f in frames:\n",
    "        df_frame = df_video[df_video[\"frame\"] == f]\n",
    "        coords = df_frame[[\"x\", \"y\"]].values.flatten()\n",
    "        sequence.append(coords)\n",
    "\n",
    "    sequence = np.stack(sequence)  # (프레임 수, 34)\n",
    "    all_sequences2.append(sequence)\n",
    "    all_labels2.append(0) # 정상 클래스 0\n",
    "\n",
    "print(f\"총 시퀀스 개수: {len(all_sequences2)}\")\n",
    "print(f\"첫 시퀀스 shape: {all_sequences2[0].shape}\")"
   ]
  },
  {
   "cell_type": "code",
   "execution_count": null,
   "id": "8cde7bfe",
   "metadata": {},
   "outputs": [
    {
     "name": "stdout",
     "output_type": "stream",
     "text": [
      "fall 라벨 개수: 30\n",
      "sus 라벨 개수: 20\n",
      "Normal 라벨 개수: 33\n"
     ]
    }
   ],
   "source": [
    "print(f\"fall 라벨 개수: {len(all_labels)}\")\n",
    "print(f\"sus 라벨 개수: {len(all_labels1)}\")\n",
    "print(f\"Normal 라벨 개수: {len(all_labels2)}\")"
   ]
  },
  {
   "cell_type": "code",
   "execution_count": null,
   "id": "deba8d63",
   "metadata": {},
   "outputs": [
    {
     "name": "stdout",
     "output_type": "stream",
     "text": [
      "{0, 1, 2}\n"
     ]
    }
   ],
   "source": [
    "# 입력 시퀀스 길이 패딩\n",
    "\n",
    "X_all = all_sequences + all_sequences1 + all_sequences2\n",
    "y_all = all_labels + all_labels1 + all_labels2\n",
    "\n",
    "print(set(y_all))"
   ]
  },
  {
   "cell_type": "code",
   "execution_count": null,
   "id": "2a29d160",
   "metadata": {},
   "outputs": [],
   "source": [
    "from tensorflow.keras.preprocessing.sequence import pad_sequences\n",
    "import numpy as np\n",
    "\n",
    "MAX_LEN = 271\n",
    "\n",
    "X_all_padded = pad_sequences(X_all, maxlen=MAX_LEN, dtype='float32', padding='post', truncating='post')\n",
    "X_all_padded = np.array(X_all_padded)\n",
    "y_all = np.array(y_all)"
   ]
  },
  {
   "cell_type": "code",
   "execution_count": null,
   "id": "78b89365",
   "metadata": {},
   "outputs": [],
   "source": [
    "# categorical_crossentropy 원핫인코딩\n",
    "\n",
    "from tensorflow.keras.utils import to_categorical\n",
    "y_all = to_categorical(y_all, num_classes=3)"
   ]
  }
 ],
 "metadata": {
  "language_info": {
   "name": "python"
  }
 },
 "nbformat": 4,
 "nbformat_minor": 5
}

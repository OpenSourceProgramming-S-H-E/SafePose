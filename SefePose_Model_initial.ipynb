{
 "cells": [
  {
   "cell_type": "code",
   "execution_count": 49,
   "id": "c2dbf105",
   "metadata": {},
   "outputs": [
    {
     "name": "stdout",
     "output_type": "stream",
     "text": [
      "  class video_folder           frame  keypoint_index         x         y  \\\n",
      "0  Fall      fall_01  frame_0000.jpg               0  0.446386  0.357385   \n",
      "1  Fall      fall_01  frame_0000.jpg               1  0.454791  0.350321   \n",
      "2  Fall      fall_01  frame_0000.jpg               2  0.437988  0.350087   \n",
      "3  Fall      fall_01  frame_0000.jpg               3  0.461094  0.347411   \n",
      "4  Fall      fall_01  frame_0000.jpg               4  0.424107  0.350340   \n",
      "\n",
      "   confidence  \n",
      "0    0.596156  \n",
      "1    0.595182  \n",
      "2    0.523923  \n",
      "3    0.637590  \n",
      "4    0.589970  \n"
     ]
    }
   ],
   "source": [
    "# 키프레임 추출한 csv 파일 추출(fall)\n",
    "\n",
    "import pandas as pd\n",
    "url = \"https://raw.githubusercontent.com/OpenSourceProgramming-S-H-E/SafePose/refs/heads/develop/keypoint_con/keypoints_fall_con.csv\"\n",
    "df1 = pd.read_csv(url)\n",
    "\n",
    "print(df1.head())"
   ]
  },
  {
   "cell_type": "code",
   "execution_count": 50,
   "id": "cee9dff1",
   "metadata": {},
   "outputs": [
    {
     "name": "stdout",
     "output_type": "stream",
     "text": [
      "총 시퀀스 개수: 30\n",
      "첫 시퀀스 shape: (259, 34)\n"
     ]
    }
   ],
   "source": [
    "# long format -> 모델에 입력받을 시퀀스 형태로 저장(fall)\n",
    "import numpy as np\n",
    "\n",
    "all_sequences = []\n",
    "all_labels = []\n",
    "\n",
    "for i in range(1, 31):\n",
    "    video_id = f\"fall_{i:02d}\"  # fall_01, fall_02, ..., fall_30\n",
    "    df_video = df1[(df1[\"video_folder\"] == video_id) & (df1[\"class\"] == \"Fall\")]\n",
    "    if df_video.empty:\n",
    "        print(f\"{video_id} 데이터가 없습니다.\")\n",
    "        continue\n",
    "\n",
    "    df_video = df_video.sort_values(by=[\"frame\", \"keypoint_index\"])\n",
    "    frames = df_video[\"frame\"].unique()\n",
    "\n",
    "    sequence = []\n",
    "    for f in frames:\n",
    "        df_frame = df_video[df_video[\"frame\"] == f]\n",
    "        coords = df_frame[[\"x\", \"y\"]].values.flatten()\n",
    "        sequence.append(coords)\n",
    "\n",
    "    sequence = np.stack(sequence)  # (프레임 수, 34)\n",
    "    all_sequences.append(sequence)\n",
    "    all_labels.append(2) # 낙상 클래스2\n",
    "\n",
    "print(f\"총 시퀀스 개수: {len(all_sequences)}\")\n",
    "print(f\"첫 시퀀스 shape: {all_sequences[0].shape}\")\n",
    "\n"
   ]
  },
  {
   "cell_type": "code",
   "execution_count": 51,
   "id": "a20ec29d",
   "metadata": {},
   "outputs": [
    {
     "name": "stdout",
     "output_type": "stream",
     "text": [
      "        class video_folder           frame  keypoint_index         x  \\\n",
      "0  Suspicious       sus_01  frame_0000.jpg               0  0.409221   \n",
      "1  Suspicious       sus_01  frame_0000.jpg               1  0.406523   \n",
      "2  Suspicious       sus_01  frame_0000.jpg               2  0.415394   \n",
      "3  Suspicious       sus_01  frame_0000.jpg               3  0.393519   \n",
      "4  Suspicious       sus_01  frame_0000.jpg               4  0.415428   \n",
      "\n",
      "          y  confidence  \n",
      "0  0.345961    0.159283  \n",
      "1  0.336220    0.075232  \n",
      "2  0.335941    0.130593  \n",
      "3  0.328424    0.122683  \n",
      "4  0.330966    0.161106  \n"
     ]
    }
   ],
   "source": [
    "# 키프레임 추출한 csv 파일 추출(suspicious)\n",
    "\n",
    "url = \"https://raw.githubusercontent.com/OpenSourceProgramming-S-H-E/SafePose/refs/heads/develop/keypoint_con/keypoints_suspicious_con.csv\"\n",
    "df2 = pd.read_csv(url)\n",
    "\n",
    "print(df2.head())"
   ]
  },
  {
   "cell_type": "code",
   "execution_count": 52,
   "id": "6e9c2d34",
   "metadata": {},
   "outputs": [
    {
     "name": "stdout",
     "output_type": "stream",
     "text": [
      "sus_04 데이터가 없습니다.\n",
      "총 시퀀스 개수: 20\n",
      "첫 시퀀스 shape: (252, 34)\n"
     ]
    }
   ],
   "source": [
    "# long format -> 모델에 입력받을 시퀀스 형태로 저장(suspicious)\n",
    "\n",
    "all_sequences1 = []\n",
    "all_labels1 = []\n",
    "\n",
    "for i in range(1, 22):\n",
    "    video_id = f\"sus_{i:02d}\"\n",
    "    df_video = df2[(df2[\"video_folder\"] == video_id) & (df2[\"class\"] == \"Suspicious\")]\n",
    "    if df_video.empty:\n",
    "        print(f\"{video_id} 데이터가 없습니다.\")\n",
    "        continue\n",
    "\n",
    "    df_video = df_video.sort_values(by=[\"frame\", \"keypoint_index\"])\n",
    "    frames = df_video[\"frame\"].unique()\n",
    "\n",
    "    sequence = []\n",
    "    for f in frames:\n",
    "        df_frame = df_video[df_video[\"frame\"] == f]\n",
    "        coords = df_frame[[\"x\", \"y\"]].values.flatten()\n",
    "        sequence.append(coords)\n",
    "\n",
    "    sequence = np.stack(sequence)  # (프레임 수, 34)\n",
    "    all_sequences1.append(sequence)\n",
    "    all_labels1.append(1) # 위험 클래스 1\n",
    "\n",
    "print(f\"총 시퀀스 개수: {len(all_sequences1)}\")\n",
    "print(f\"첫 시퀀스 shape: {all_sequences1[0].shape}\")"
   ]
  },
  {
   "cell_type": "code",
   "execution_count": 53,
   "id": "dfae0d05",
   "metadata": {},
   "outputs": [
    {
     "name": "stdout",
     "output_type": "stream",
     "text": [
      "    class video_folder           frame  keypoint_index         x         y  \\\n",
      "0  Normal    normal_01  frame_0000.jpg               0  0.491582  0.362946   \n",
      "1  Normal    normal_01  frame_0000.jpg               1  0.499338  0.356676   \n",
      "2  Normal    normal_01  frame_0000.jpg               2  0.483186  0.354573   \n",
      "3  Normal    normal_01  frame_0000.jpg               3  0.507564  0.360179   \n",
      "4  Normal    normal_01  frame_0000.jpg               4  0.473766  0.356689   \n",
      "\n",
      "   confidence  \n",
      "0    0.491786  \n",
      "1    0.523412  \n",
      "2    0.572754  \n",
      "3    0.681367  \n",
      "4    0.676613  \n"
     ]
    }
   ],
   "source": [
    "url = \"https://raw.githubusercontent.com/OpenSourceProgramming-S-H-E/SafePose/refs/heads/develop/keypoint_con/keypoints_normal_con.csv\"\n",
    "df3 = pd.read_csv(url)\n",
    "\n",
    "print(df3.head())"
   ]
  },
  {
   "cell_type": "code",
   "execution_count": 54,
   "id": "2f51ccbd",
   "metadata": {},
   "outputs": [
    {
     "name": "stdout",
     "output_type": "stream",
     "text": [
      "normal_28 데이터가 없습니다.\n",
      "총 시퀀스 개수: 33\n",
      "첫 시퀀스 shape: (271, 34)\n"
     ]
    }
   ],
   "source": [
    "# long format -> 모델에 입력받을 시퀀스 형태로 저장(normal)\n",
    "\n",
    "all_sequences2 = []\n",
    "all_labels2 = []\n",
    "\n",
    "for i in range(1, 35):\n",
    "    video_id = f\"normal_{i:02d}\"\n",
    "    df_video = df3[(df3[\"video_folder\"] == video_id) & (df3[\"class\"] == \"Normal\")]\n",
    "    if df_video.empty:\n",
    "        print(f\"{video_id} 데이터가 없습니다.\")\n",
    "        continue\n",
    "\n",
    "    df_video = df_video.sort_values(by=[\"frame\", \"keypoint_index\"])\n",
    "    frames = df_video[\"frame\"].unique()\n",
    "\n",
    "    sequence = []\n",
    "    for f in frames:\n",
    "        df_frame = df_video[df_video[\"frame\"] == f]\n",
    "        coords = df_frame[[\"x\", \"y\"]].values.flatten()\n",
    "        sequence.append(coords)\n",
    "\n",
    "    sequence = np.stack(sequence)  # (프레임 수, 34)\n",
    "    all_sequences2.append(sequence)\n",
    "    all_labels2.append(0) # 정상 클래스 0\n",
    "\n",
    "print(f\"총 시퀀스 개수: {len(all_sequences2)}\")\n",
    "print(f\"첫 시퀀스 shape: {all_sequences2[0].shape}\")"
   ]
  },
  {
   "cell_type": "code",
   "execution_count": 55,
   "id": "8cde7bfe",
   "metadata": {},
   "outputs": [
    {
     "name": "stdout",
     "output_type": "stream",
     "text": [
      "fall 라벨 개수: 30\n",
      "sus 라벨 개수: 20\n",
      "Normal 라벨 개수: 33\n"
     ]
    }
   ],
   "source": [
    "print(f\"fall 라벨 개수: {len(all_labels)}\")\n",
    "print(f\"sus 라벨 개수: {len(all_labels1)}\")\n",
    "print(f\"Normal 라벨 개수: {len(all_labels2)}\")"
   ]
  },
  {
   "cell_type": "code",
   "execution_count": 56,
   "id": "deba8d63",
   "metadata": {},
   "outputs": [
    {
     "name": "stdout",
     "output_type": "stream",
     "text": [
      "{0, 1, 2}\n"
     ]
    }
   ],
   "source": [
    "# 입력 시퀀스 길이 패딩\n",
    "\n",
    "X_all = all_sequences + all_sequences1 + all_sequences2\n",
    "y_all = all_labels + all_labels1 + all_labels2\n",
    "\n",
    "print(set(y_all))"
   ]
  },
  {
   "cell_type": "code",
   "execution_count": 57,
   "id": "2a29d160",
   "metadata": {},
   "outputs": [],
   "source": [
    "from tensorflow.keras.preprocessing.sequence import pad_sequences\n",
    "import numpy as np\n",
    "\n",
    "MAX_LEN = 271\n",
    "\n",
    "X_all_padded = pad_sequences(X_all, maxlen=MAX_LEN, dtype='float32', padding='post', truncating='post')\n",
    "X_all_padded = np.array(X_all_padded)\n",
    "y_all = np.array(y_all)"
   ]
  },
  {
   "cell_type": "code",
   "execution_count": 58,
   "id": "71780037",
   "metadata": {},
   "outputs": [],
   "source": [
    "from sklearn.preprocessing import MinMaxScaler\n",
    "\n",
    "scaler = MinMaxScaler()\n",
    "X_scaled = np.array([\n",
    "    MinMaxScaler().fit_transform(seq) for seq in X_all_padded\n",
    "])"
   ]
  },
  {
   "cell_type": "code",
   "execution_count": 59,
   "id": "a239227d",
   "metadata": {},
   "outputs": [],
   "source": [
    "# 학습/ 검증용 데이터 분할\n",
    "\n",
    "from sklearn.model_selection import train_test_split\n",
    "\n",
    "X_train, X_val, y_train, y_val = train_test_split(X_scaled, y_all, test_size=0.2, random_state=42, stratify=y_all)"
   ]
  },
  {
   "cell_type": "code",
   "execution_count": 60,
   "id": "589272d9",
   "metadata": {},
   "outputs": [
    {
     "name": "stderr",
     "output_type": "stream",
     "text": [
      "c:\\Users\\Admin\\anaconda3\\Lib\\site-packages\\keras\\src\\layers\\core\\masking.py:48: UserWarning: Do not pass an `input_shape`/`input_dim` argument to a layer. When using Sequential models, prefer using an `Input(shape)` object as the first layer in the model instead.\n",
      "  super().__init__(**kwargs)\n"
     ]
    }
   ],
   "source": [
    "# LSTM 기반 모델 구성 \n",
    "\n",
    "from tensorflow.keras.models import Sequential\n",
    "from tensorflow.keras.layers import LSTM, Dense, Dropout, Masking\n",
    "\n",
    "model = Sequential()\n",
    "model.add(Masking(mask_value=0.0, input_shape=(MAX_LEN, 34)))\n",
    "model.add(LSTM(128, return_sequences=True))\n",
    "model.add(Dropout(0.5))\n",
    "model.add(LSTM(64))\n",
    "model.add(Dropout(0.3))\n",
    "model.add(Dense(64, activation='relu'))\n",
    "model.add(Dense(3, activation='softmax'))\n"
   ]
  },
  {
   "cell_type": "code",
   "execution_count": 61,
   "id": "90c77954",
   "metadata": {},
   "outputs": [
    {
     "data": {
      "text/html": [
       "<pre style=\"white-space:pre;overflow-x:auto;line-height:normal;font-family:Menlo,'DejaVu Sans Mono',consolas,'Courier New',monospace\"><span style=\"font-weight: bold\">Model: \"sequential_3\"</span>\n",
       "</pre>\n"
      ],
      "text/plain": [
       "\u001b[1mModel: \"sequential_3\"\u001b[0m\n"
      ]
     },
     "metadata": {},
     "output_type": "display_data"
    },
    {
     "data": {
      "text/html": [
       "<pre style=\"white-space:pre;overflow-x:auto;line-height:normal;font-family:Menlo,'DejaVu Sans Mono',consolas,'Courier New',monospace\">┏━━━━━━━━━━━━━━━━━━━━━━━━━━━━━━━━━┳━━━━━━━━━━━━━━━━━━━━━━━━┳━━━━━━━━━━━━━━━┓\n",
       "┃<span style=\"font-weight: bold\"> Layer (type)                    </span>┃<span style=\"font-weight: bold\"> Output Shape           </span>┃<span style=\"font-weight: bold\">       Param # </span>┃\n",
       "┡━━━━━━━━━━━━━━━━━━━━━━━━━━━━━━━━━╇━━━━━━━━━━━━━━━━━━━━━━━━╇━━━━━━━━━━━━━━━┩\n",
       "│ masking_3 (<span style=\"color: #0087ff; text-decoration-color: #0087ff\">Masking</span>)             │ (<span style=\"color: #00d7ff; text-decoration-color: #00d7ff\">None</span>, <span style=\"color: #00af00; text-decoration-color: #00af00\">271</span>, <span style=\"color: #00af00; text-decoration-color: #00af00\">34</span>)        │             <span style=\"color: #00af00; text-decoration-color: #00af00\">0</span> │\n",
       "├─────────────────────────────────┼────────────────────────┼───────────────┤\n",
       "│ lstm_6 (<span style=\"color: #0087ff; text-decoration-color: #0087ff\">LSTM</span>)                   │ (<span style=\"color: #00d7ff; text-decoration-color: #00d7ff\">None</span>, <span style=\"color: #00af00; text-decoration-color: #00af00\">271</span>, <span style=\"color: #00af00; text-decoration-color: #00af00\">128</span>)       │        <span style=\"color: #00af00; text-decoration-color: #00af00\">83,456</span> │\n",
       "├─────────────────────────────────┼────────────────────────┼───────────────┤\n",
       "│ dropout_6 (<span style=\"color: #0087ff; text-decoration-color: #0087ff\">Dropout</span>)             │ (<span style=\"color: #00d7ff; text-decoration-color: #00d7ff\">None</span>, <span style=\"color: #00af00; text-decoration-color: #00af00\">271</span>, <span style=\"color: #00af00; text-decoration-color: #00af00\">128</span>)       │             <span style=\"color: #00af00; text-decoration-color: #00af00\">0</span> │\n",
       "├─────────────────────────────────┼────────────────────────┼───────────────┤\n",
       "│ lstm_7 (<span style=\"color: #0087ff; text-decoration-color: #0087ff\">LSTM</span>)                   │ (<span style=\"color: #00d7ff; text-decoration-color: #00d7ff\">None</span>, <span style=\"color: #00af00; text-decoration-color: #00af00\">64</span>)             │        <span style=\"color: #00af00; text-decoration-color: #00af00\">49,408</span> │\n",
       "├─────────────────────────────────┼────────────────────────┼───────────────┤\n",
       "│ dropout_7 (<span style=\"color: #0087ff; text-decoration-color: #0087ff\">Dropout</span>)             │ (<span style=\"color: #00d7ff; text-decoration-color: #00d7ff\">None</span>, <span style=\"color: #00af00; text-decoration-color: #00af00\">64</span>)             │             <span style=\"color: #00af00; text-decoration-color: #00af00\">0</span> │\n",
       "├─────────────────────────────────┼────────────────────────┼───────────────┤\n",
       "│ dense_6 (<span style=\"color: #0087ff; text-decoration-color: #0087ff\">Dense</span>)                 │ (<span style=\"color: #00d7ff; text-decoration-color: #00d7ff\">None</span>, <span style=\"color: #00af00; text-decoration-color: #00af00\">64</span>)             │         <span style=\"color: #00af00; text-decoration-color: #00af00\">4,160</span> │\n",
       "├─────────────────────────────────┼────────────────────────┼───────────────┤\n",
       "│ dense_7 (<span style=\"color: #0087ff; text-decoration-color: #0087ff\">Dense</span>)                 │ (<span style=\"color: #00d7ff; text-decoration-color: #00d7ff\">None</span>, <span style=\"color: #00af00; text-decoration-color: #00af00\">3</span>)              │           <span style=\"color: #00af00; text-decoration-color: #00af00\">195</span> │\n",
       "└─────────────────────────────────┴────────────────────────┴───────────────┘\n",
       "</pre>\n"
      ],
      "text/plain": [
       "┏━━━━━━━━━━━━━━━━━━━━━━━━━━━━━━━━━┳━━━━━━━━━━━━━━━━━━━━━━━━┳━━━━━━━━━━━━━━━┓\n",
       "┃\u001b[1m \u001b[0m\u001b[1mLayer (type)                   \u001b[0m\u001b[1m \u001b[0m┃\u001b[1m \u001b[0m\u001b[1mOutput Shape          \u001b[0m\u001b[1m \u001b[0m┃\u001b[1m \u001b[0m\u001b[1m      Param #\u001b[0m\u001b[1m \u001b[0m┃\n",
       "┡━━━━━━━━━━━━━━━━━━━━━━━━━━━━━━━━━╇━━━━━━━━━━━━━━━━━━━━━━━━╇━━━━━━━━━━━━━━━┩\n",
       "│ masking_3 (\u001b[38;5;33mMasking\u001b[0m)             │ (\u001b[38;5;45mNone\u001b[0m, \u001b[38;5;34m271\u001b[0m, \u001b[38;5;34m34\u001b[0m)        │             \u001b[38;5;34m0\u001b[0m │\n",
       "├─────────────────────────────────┼────────────────────────┼───────────────┤\n",
       "│ lstm_6 (\u001b[38;5;33mLSTM\u001b[0m)                   │ (\u001b[38;5;45mNone\u001b[0m, \u001b[38;5;34m271\u001b[0m, \u001b[38;5;34m128\u001b[0m)       │        \u001b[38;5;34m83,456\u001b[0m │\n",
       "├─────────────────────────────────┼────────────────────────┼───────────────┤\n",
       "│ dropout_6 (\u001b[38;5;33mDropout\u001b[0m)             │ (\u001b[38;5;45mNone\u001b[0m, \u001b[38;5;34m271\u001b[0m, \u001b[38;5;34m128\u001b[0m)       │             \u001b[38;5;34m0\u001b[0m │\n",
       "├─────────────────────────────────┼────────────────────────┼───────────────┤\n",
       "│ lstm_7 (\u001b[38;5;33mLSTM\u001b[0m)                   │ (\u001b[38;5;45mNone\u001b[0m, \u001b[38;5;34m64\u001b[0m)             │        \u001b[38;5;34m49,408\u001b[0m │\n",
       "├─────────────────────────────────┼────────────────────────┼───────────────┤\n",
       "│ dropout_7 (\u001b[38;5;33mDropout\u001b[0m)             │ (\u001b[38;5;45mNone\u001b[0m, \u001b[38;5;34m64\u001b[0m)             │             \u001b[38;5;34m0\u001b[0m │\n",
       "├─────────────────────────────────┼────────────────────────┼───────────────┤\n",
       "│ dense_6 (\u001b[38;5;33mDense\u001b[0m)                 │ (\u001b[38;5;45mNone\u001b[0m, \u001b[38;5;34m64\u001b[0m)             │         \u001b[38;5;34m4,160\u001b[0m │\n",
       "├─────────────────────────────────┼────────────────────────┼───────────────┤\n",
       "│ dense_7 (\u001b[38;5;33mDense\u001b[0m)                 │ (\u001b[38;5;45mNone\u001b[0m, \u001b[38;5;34m3\u001b[0m)              │           \u001b[38;5;34m195\u001b[0m │\n",
       "└─────────────────────────────────┴────────────────────────┴───────────────┘\n"
      ]
     },
     "metadata": {},
     "output_type": "display_data"
    },
    {
     "data": {
      "text/html": [
       "<pre style=\"white-space:pre;overflow-x:auto;line-height:normal;font-family:Menlo,'DejaVu Sans Mono',consolas,'Courier New',monospace\"><span style=\"font-weight: bold\"> Total params: </span><span style=\"color: #00af00; text-decoration-color: #00af00\">137,219</span> (536.01 KB)\n",
       "</pre>\n"
      ],
      "text/plain": [
       "\u001b[1m Total params: \u001b[0m\u001b[38;5;34m137,219\u001b[0m (536.01 KB)\n"
      ]
     },
     "metadata": {},
     "output_type": "display_data"
    },
    {
     "data": {
      "text/html": [
       "<pre style=\"white-space:pre;overflow-x:auto;line-height:normal;font-family:Menlo,'DejaVu Sans Mono',consolas,'Courier New',monospace\"><span style=\"font-weight: bold\"> Trainable params: </span><span style=\"color: #00af00; text-decoration-color: #00af00\">137,219</span> (536.01 KB)\n",
       "</pre>\n"
      ],
      "text/plain": [
       "\u001b[1m Trainable params: \u001b[0m\u001b[38;5;34m137,219\u001b[0m (536.01 KB)\n"
      ]
     },
     "metadata": {},
     "output_type": "display_data"
    },
    {
     "data": {
      "text/html": [
       "<pre style=\"white-space:pre;overflow-x:auto;line-height:normal;font-family:Menlo,'DejaVu Sans Mono',consolas,'Courier New',monospace\"><span style=\"font-weight: bold\"> Non-trainable params: </span><span style=\"color: #00af00; text-decoration-color: #00af00\">0</span> (0.00 B)\n",
       "</pre>\n"
      ],
      "text/plain": [
       "\u001b[1m Non-trainable params: \u001b[0m\u001b[38;5;34m0\u001b[0m (0.00 B)\n"
      ]
     },
     "metadata": {},
     "output_type": "display_data"
    }
   ],
   "source": [
    "# 모델 컴파일\n",
    "\n",
    "model.compile(\n",
    "    optimizer='adam',\n",
    "    loss='sparse_categorical_crossentropy', \n",
    "    metrics=['accuracy']\n",
    ")\n",
    "\n",
    "model.summary()"
   ]
  },
  {
   "cell_type": "code",
   "execution_count": 62,
   "id": "9044a23e",
   "metadata": {},
   "outputs": [
    {
     "name": "stdout",
     "output_type": "stream",
     "text": [
      "Epoch 1/20\n",
      "\u001b[1m5/5\u001b[0m \u001b[32m━━━━━━━━━━━━━━━━━━━━\u001b[0m\u001b[37m\u001b[0m \u001b[1m7s\u001b[0m 440ms/step - accuracy: 0.3929 - loss: 1.1179 - val_accuracy: 0.6471 - val_loss: 1.0628\n",
      "Epoch 2/20\n",
      "\u001b[1m5/5\u001b[0m \u001b[32m━━━━━━━━━━━━━━━━━━━━\u001b[0m\u001b[37m\u001b[0m \u001b[1m2s\u001b[0m 340ms/step - accuracy: 0.4312 - loss: 1.0834 - val_accuracy: 0.4118 - val_loss: 1.0467\n",
      "Epoch 3/20\n",
      "\u001b[1m5/5\u001b[0m \u001b[32m━━━━━━━━━━━━━━━━━━━━\u001b[0m\u001b[37m\u001b[0m \u001b[1m2s\u001b[0m 306ms/step - accuracy: 0.4654 - loss: 1.0887 - val_accuracy: 0.5882 - val_loss: 1.0435\n",
      "Epoch 4/20\n",
      "\u001b[1m5/5\u001b[0m \u001b[32m━━━━━━━━━━━━━━━━━━━━\u001b[0m\u001b[37m\u001b[0m \u001b[1m2s\u001b[0m 319ms/step - accuracy: 0.4727 - loss: 1.0406 - val_accuracy: 0.4118 - val_loss: 1.0791\n",
      "Epoch 5/20\n",
      "\u001b[1m5/5\u001b[0m \u001b[32m━━━━━━━━━━━━━━━━━━━━\u001b[0m\u001b[37m\u001b[0m \u001b[1m2s\u001b[0m 336ms/step - accuracy: 0.4175 - loss: 1.0929 - val_accuracy: 0.4118 - val_loss: 1.0740\n",
      "Epoch 6/20\n",
      "\u001b[1m5/5\u001b[0m \u001b[32m━━━━━━━━━━━━━━━━━━━━\u001b[0m\u001b[37m\u001b[0m \u001b[1m2s\u001b[0m 317ms/step - accuracy: 0.4242 - loss: 1.0920 - val_accuracy: 0.5882 - val_loss: 1.0528\n",
      "Epoch 7/20\n",
      "\u001b[1m5/5\u001b[0m \u001b[32m━━━━━━━━━━━━━━━━━━━━\u001b[0m\u001b[37m\u001b[0m \u001b[1m2s\u001b[0m 324ms/step - accuracy: 0.4863 - loss: 1.0258 - val_accuracy: 0.3529 - val_loss: 1.0587\n",
      "Epoch 8/20\n",
      "\u001b[1m5/5\u001b[0m \u001b[32m━━━━━━━━━━━━━━━━━━━━\u001b[0m\u001b[37m\u001b[0m \u001b[1m2s\u001b[0m 306ms/step - accuracy: 0.4437 - loss: 1.0639 - val_accuracy: 0.3529 - val_loss: 1.0519\n",
      "Epoch 9/20\n",
      "\u001b[1m5/5\u001b[0m \u001b[32m━━━━━━━━━━━━━━━━━━━━\u001b[0m\u001b[37m\u001b[0m \u001b[1m2s\u001b[0m 339ms/step - accuracy: 0.3803 - loss: 1.0968 - val_accuracy: 0.4118 - val_loss: 1.0442\n",
      "Epoch 10/20\n",
      "\u001b[1m5/5\u001b[0m \u001b[32m━━━━━━━━━━━━━━━━━━━━\u001b[0m\u001b[37m\u001b[0m \u001b[1m2s\u001b[0m 328ms/step - accuracy: 0.3950 - loss: 1.0372 - val_accuracy: 0.4118 - val_loss: 1.0696\n",
      "Epoch 11/20\n",
      "\u001b[1m5/5\u001b[0m \u001b[32m━━━━━━━━━━━━━━━━━━━━\u001b[0m\u001b[37m\u001b[0m \u001b[1m2s\u001b[0m 368ms/step - accuracy: 0.4209 - loss: 1.0490 - val_accuracy: 0.4118 - val_loss: 1.0386\n",
      "Epoch 12/20\n",
      "\u001b[1m5/5\u001b[0m \u001b[32m━━━━━━━━━━━━━━━━━━━━\u001b[0m\u001b[37m\u001b[0m \u001b[1m2s\u001b[0m 303ms/step - accuracy: 0.3999 - loss: 1.0902 - val_accuracy: 0.5294 - val_loss: 0.9953\n",
      "Epoch 13/20\n",
      "\u001b[1m5/5\u001b[0m \u001b[32m━━━━━━━━━━━━━━━━━━━━\u001b[0m\u001b[37m\u001b[0m \u001b[1m2s\u001b[0m 352ms/step - accuracy: 0.6044 - loss: 0.9843 - val_accuracy: 0.4706 - val_loss: 0.9772\n",
      "Epoch 14/20\n",
      "\u001b[1m5/5\u001b[0m \u001b[32m━━━━━━━━━━━━━━━━━━━━\u001b[0m\u001b[37m\u001b[0m \u001b[1m2s\u001b[0m 324ms/step - accuracy: 0.4343 - loss: 1.0334 - val_accuracy: 0.4706 - val_loss: 0.9171\n",
      "Epoch 15/20\n",
      "\u001b[1m5/5\u001b[0m \u001b[32m━━━━━━━━━━━━━━━━━━━━\u001b[0m\u001b[37m\u001b[0m \u001b[1m2s\u001b[0m 314ms/step - accuracy: 0.4616 - loss: 1.0091 - val_accuracy: 0.5882 - val_loss: 0.8886\n",
      "Epoch 16/20\n",
      "\u001b[1m5/5\u001b[0m \u001b[32m━━━━━━━━━━━━━━━━━━━━\u001b[0m\u001b[37m\u001b[0m \u001b[1m2s\u001b[0m 317ms/step - accuracy: 0.5047 - loss: 0.9254 - val_accuracy: 0.5882 - val_loss: 0.8687\n",
      "Epoch 17/20\n",
      "\u001b[1m5/5\u001b[0m \u001b[32m━━━━━━━━━━━━━━━━━━━━\u001b[0m\u001b[37m\u001b[0m \u001b[1m2s\u001b[0m 361ms/step - accuracy: 0.4164 - loss: 1.0738 - val_accuracy: 0.2941 - val_loss: 1.1353\n",
      "Epoch 18/20\n",
      "\u001b[1m5/5\u001b[0m \u001b[32m━━━━━━━━━━━━━━━━━━━━\u001b[0m\u001b[37m\u001b[0m \u001b[1m2s\u001b[0m 348ms/step - accuracy: 0.3964 - loss: 1.0274 - val_accuracy: 0.4118 - val_loss: 1.0130\n",
      "Epoch 19/20\n",
      "\u001b[1m5/5\u001b[0m \u001b[32m━━━━━━━━━━━━━━━━━━━━\u001b[0m\u001b[37m\u001b[0m \u001b[1m2s\u001b[0m 336ms/step - accuracy: 0.4496 - loss: 1.0063 - val_accuracy: 0.4118 - val_loss: 1.0024\n",
      "Epoch 20/20\n",
      "\u001b[1m5/5\u001b[0m \u001b[32m━━━━━━━━━━━━━━━━━━━━\u001b[0m\u001b[37m\u001b[0m \u001b[1m1s\u001b[0m 305ms/step - accuracy: 0.4069 - loss: 1.0650 - val_accuracy: 0.5294 - val_loss: 0.9773\n"
     ]
    },
    {
     "data": {
      "text/plain": [
       "<keras.src.callbacks.history.History at 0x2283135cb00>"
      ]
     },
     "execution_count": 62,
     "metadata": {},
     "output_type": "execute_result"
    }
   ],
   "source": [
    "model.fit(X_train, y_train, epochs=20, batch_size=16, validation_data=(X_val, y_val))"
   ]
  },
  {
   "cell_type": "code",
   "execution_count": 63,
   "id": "469673cc",
   "metadata": {},
   "outputs": [
    {
     "name": "stderr",
     "output_type": "stream",
     "text": [
      "WARNING:absl:You are saving your model as an HDF5 file via `model.save()` or `keras.saving.save_model(model)`. This file format is considered legacy. We recommend using instead the native Keras format, e.g. `model.save('my_model.keras')` or `keras.saving.save_model(model, 'my_model.keras')`. \n"
     ]
    }
   ],
   "source": [
    "model.save(\"fall_detection_model.h5\")"
   ]
  },
  {
   "cell_type": "code",
   "execution_count": 64,
   "id": "2662ccf2",
   "metadata": {},
   "outputs": [
    {
     "name": "stdout",
     "output_type": "stream",
     "text": [
      "\u001b[1m1/1\u001b[0m \u001b[32m━━━━━━━━━━━━━━━━━━━━\u001b[0m\u001b[37m\u001b[0m \u001b[1m1s\u001b[0m 591ms/step\n",
      "📊 Classification Report\n",
      "              precision    recall  f1-score   support\n",
      "\n",
      "      Normal       0.50      1.00      0.67         7\n",
      "  Suspicious       0.00      0.00      0.00         4\n",
      "        Fall       0.67      0.33      0.44         6\n",
      "\n",
      "    accuracy                           0.53        17\n",
      "   macro avg       0.39      0.44      0.37        17\n",
      "weighted avg       0.44      0.53      0.43        17\n",
      "\n"
     ]
    },
    {
     "name": "stderr",
     "output_type": "stream",
     "text": [
      "c:\\Users\\Admin\\anaconda3\\Lib\\site-packages\\sklearn\\metrics\\_classification.py:1531: UndefinedMetricWarning: Precision is ill-defined and being set to 0.0 in labels with no predicted samples. Use `zero_division` parameter to control this behavior.\n",
      "  _warn_prf(average, modifier, f\"{metric.capitalize()} is\", len(result))\n",
      "c:\\Users\\Admin\\anaconda3\\Lib\\site-packages\\sklearn\\metrics\\_classification.py:1531: UndefinedMetricWarning: Precision is ill-defined and being set to 0.0 in labels with no predicted samples. Use `zero_division` parameter to control this behavior.\n",
      "  _warn_prf(average, modifier, f\"{metric.capitalize()} is\", len(result))\n",
      "c:\\Users\\Admin\\anaconda3\\Lib\\site-packages\\sklearn\\metrics\\_classification.py:1531: UndefinedMetricWarning: Precision is ill-defined and being set to 0.0 in labels with no predicted samples. Use `zero_division` parameter to control this behavior.\n",
      "  _warn_prf(average, modifier, f\"{metric.capitalize()} is\", len(result))\n"
     ]
    },
    {
     "data": {
      "image/png": "[encoded data removed]",
      "text/plain": [
       "<Figure size 600x400 with 2 Axes>"
      ]
     },
     "metadata": {},
     "output_type": "display_data"
    }
   ],
   "source": [
    "from sklearn.metrics import classification_report, confusion_matrix\n",
    "import numpy as np\n",
    "import matplotlib.pyplot as plt\n",
    "import seaborn as sns\n",
    "\n",
    "# 예측\n",
    "y_pred = model.predict(X_val)\n",
    "y_pred_label = np.argmax(y_pred, axis=1)\n",
    "y_true_label = y_val  \n",
    "\n",
    "# 평가 결과 출력\n",
    "print(\"📊 Classification Report\")\n",
    "print(classification_report(y_true_label, y_pred_label, target_names=['Normal', 'Suspicious', 'Fall']))\n",
    "\n",
    "# confusion matrix 시각화\n",
    "cm = confusion_matrix(y_true_label, y_pred_label)\n",
    "plt.figure(figsize=(6, 4))\n",
    "sns.heatmap(cm, annot=True, fmt='d', cmap='Blues',\n",
    "            xticklabels=['Normal', 'Suspicious', 'Fall'],\n",
    "            yticklabels=['Normal', 'Suspicious', 'Fall'])\n",
    "plt.xlabel(\"Predicted\")\n",
    "plt.ylabel(\"True\")\n",
    "plt.title(\"Confusion Matrix\")\n",
    "plt.show()\n"
   ]
  },
  {
   "cell_type": "markdown",
   "id": "f2f8f940",
   "metadata": {},
   "source": [
    "## 모델 성능 분석 요약  \n",
    "\n",
    "- 전체 시퀀스: 83개  \n",
    "  (Normal 33, Suspicious 20, Fall 30)\n",
    "\n",
    "- 검증 데이터: test_size=0.2 → 17개 샘플로 평가 진행\n",
    "\n",
    "\n",
    "---\n",
    "\n",
    "### 전체 모델 성능\n",
    "\n",
    "1. Accuracy  |  0.53 (53%)    ->  총 17개 중 약 9개 올바르게 예측 \n",
    "2. Macro 평균  |  P: 0.39 / R: 0.44 / F1: 0.37  -> 클래스 간 균형 평균. 위험 클래스 영향으로 낮게 나옴 |\n",
    "3. Weighted 평균  |  P: 0.44 / R: 0.53 / F1: 0.43   -> 샘플 수를 고려한 평균. 정상 클래스 성능에 편향되어 있음\n",
    "\n",
    "---\n",
    "\n",
    "### Confusion Matrix 기반 오분류 분석\n",
    "\n",
    "1. 정상 클래스는 대부분 정확하게 예측됨 (Recall 100%)\n",
    "2. 위험 클래스는 모두 오분류 (3건은 정상으로, 1건은 낙상으로 오분류) → 위험 클래스를 혼동함\n",
    "3. 낙상 클래스도 과반수는 정상으로 오분류 → 정상으로 치우친 예측 경향\n",
    "\n",
    "---\n",
    "\n",
    "### ⚠️ 클래스별 성능 및 문제점 분석\n",
    "\n",
    "1. 위험 클래스 미탐지\n",
    "   - Recall, Precision, F1-Score 모두 0%\n",
    "   - → 학습 데이터 부족 또는 특징 중첩 가능성\n",
    "\n",
    "2. 정상 클래스 과예측\n",
    "   - 다른 클래스들을 정상으로 예측하는 경향 강함\n",
    "   - → 모델이 정상 클래스에 편향, 다른 클래스는 일반화 실패 가능성 있음 \n",
    "   - 과적합 경향도 일부 의심됨\n",
    "\n",
    "3. 낙상 클래스 예측 불안정\n",
    "   - Recall 0.33, Precision 0.67 -> 정확도는 높지만 재현율이 낮음\n",
    "   - 정상으로 오분류된 낙상 샘플 다수 존재\n",
    "\n",
    "\n",
    "---\n",
    "> ✅ 학습 데이터 수를 보강하거나, 클래스 간 경계를 명확히 하기 위한 추가 전처리 또는 특징 추출이 필요할 수 있음.\n"
   ]
  }
 ],
 "metadata": {
  "kernelspec": {
   "display_name": "base",
   "language": "python",
   "name": "python3"
  },
  "language_info": {
   "codemirror_mode": {
    "name": "ipython",
    "version": 3
   },
   "file_extension": ".py",
   "mimetype": "text/x-python",
   "name": "python",
   "nbconvert_exporter": "python",
   "pygments_lexer": "ipython3",
   "version": "3.12.7"
  }
 },
 "nbformat": 4,
 "nbformat_minor": 5
}

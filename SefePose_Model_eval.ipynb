{
 "cells": [
  {
   "cell_type": "code",
   "execution_count": 18,
   "id": "c2dbf105",
   "metadata": {},
   "outputs": [
    {
     "name": "stdout",
     "output_type": "stream",
     "text": [
      "  class video_folder           frame  keypoint_index         x         y  \\\n",
      "0  Fall      fall_01  frame_0000.jpg               0  0.446386  0.357385   \n",
      "1  Fall      fall_01  frame_0000.jpg               1  0.454791  0.350321   \n",
      "2  Fall      fall_01  frame_0000.jpg               2  0.437988  0.350087   \n",
      "3  Fall      fall_01  frame_0000.jpg               3  0.461094  0.347411   \n",
      "4  Fall      fall_01  frame_0000.jpg               4  0.424107  0.350340   \n",
      "\n",
      "   confidence  \n",
      "0    0.596156  \n",
      "1    0.595182  \n",
      "2    0.523923  \n",
      "3    0.637590  \n",
      "4    0.589970  \n"
     ]
    }
   ],
   "source": [
    "# 키프레임 추출한 csv 파일 추출(fall)\n",
    "\n",
    "import pandas as pd\n",
    "url = \"https://raw.githubusercontent.com/OpenSourceProgramming-S-H-E/SafePose/refs/heads/develop/keypoint_con/keypoints_fall_con.csv\"\n",
    "df1 = pd.read_csv(url)\n",
    "\n",
    "print(df1.head())"
   ]
  },
  {
   "cell_type": "code",
   "execution_count": 19,
   "id": "cee9dff1",
   "metadata": {},
   "outputs": [
    {
     "name": "stdout",
     "output_type": "stream",
     "text": [
      "총 시퀀스 개수: 30\n",
      "첫 시퀀스 shape: (259, 34)\n"
     ]
    }
   ],
   "source": [
    "# long format -> 모델에 입력받을 시퀀스 형태로 저장(fall)\n",
    "import numpy as np\n",
    "\n",
    "all_sequences = []\n",
    "all_labels = []\n",
    "\n",
    "for i in range(1, 31):\n",
    "    video_id = f\"fall_{i:02d}\"  # fall_01, fall_02, ..., fall_30\n",
    "    df_video = df1[(df1[\"video_folder\"] == video_id) & (df1[\"class\"] == \"Fall\")]\n",
    "    if df_video.empty:\n",
    "        print(f\"{video_id} 데이터가 없습니다.\")\n",
    "        continue\n",
    "\n",
    "    df_video = df_video.sort_values(by=[\"frame\", \"keypoint_index\"])\n",
    "    frames = df_video[\"frame\"].unique()\n",
    "\n",
    "    sequence = []\n",
    "    for f in frames:\n",
    "        df_frame = df_video[df_video[\"frame\"] == f]\n",
    "        coords = df_frame[[\"x\", \"y\"]].values.flatten()\n",
    "        sequence.append(coords)\n",
    "\n",
    "    sequence = np.stack(sequence)  # (프레임 수, 34)\n",
    "    all_sequences.append(sequence)\n",
    "    all_labels.append(2) # 낙상 클래스2\n",
    "\n",
    "print(f\"총 시퀀스 개수: {len(all_sequences)}\")\n",
    "print(f\"첫 시퀀스 shape: {all_sequences[0].shape}\")\n",
    "\n"
   ]
  },
  {
   "cell_type": "code",
   "execution_count": 20,
   "id": "a20ec29d",
   "metadata": {},
   "outputs": [
    {
     "name": "stdout",
     "output_type": "stream",
     "text": [
      "        class video_folder           frame  keypoint_index         x  \\\n",
      "0  Suspicious       sus_01  frame_0000.jpg               0  0.409221   \n",
      "1  Suspicious       sus_01  frame_0000.jpg               1  0.406523   \n",
      "2  Suspicious       sus_01  frame_0000.jpg               2  0.415394   \n",
      "3  Suspicious       sus_01  frame_0000.jpg               3  0.393519   \n",
      "4  Suspicious       sus_01  frame_0000.jpg               4  0.415428   \n",
      "\n",
      "          y  confidence  \n",
      "0  0.345961    0.159283  \n",
      "1  0.336220    0.075232  \n",
      "2  0.335941    0.130593  \n",
      "3  0.328424    0.122683  \n",
      "4  0.330966    0.161106  \n"
     ]
    }
   ],
   "source": [
    "# 키프레임 추출한 csv 파일 추출(suspicious)\n",
    "\n",
    "url = \"https://raw.githubusercontent.com/OpenSourceProgramming-S-H-E/SafePose/refs/heads/develop/keypoint_con/keypoints_suspicious_con.csv\"\n",
    "df2 = pd.read_csv(url)\n",
    "\n",
    "print(df2.head())"
   ]
  },
  {
   "cell_type": "code",
   "execution_count": 21,
   "id": "6e9c2d34",
   "metadata": {},
   "outputs": [
    {
     "name": "stdout",
     "output_type": "stream",
     "text": [
      "sus_04 데이터가 없습니다.\n",
      "총 시퀀스 개수: 20\n",
      "첫 시퀀스 shape: (252, 34)\n"
     ]
    }
   ],
   "source": [
    "# long format -> 모델에 입력받을 시퀀스 형태로 저장(suspicious)\n",
    "\n",
    "all_sequences1 = []\n",
    "all_labels1 = []\n",
    "\n",
    "for i in range(1, 22):\n",
    "    video_id = f\"sus_{i:02d}\"\n",
    "    df_video = df2[(df2[\"video_folder\"] == video_id) & (df2[\"class\"] == \"Suspicious\")]\n",
    "    if df_video.empty:\n",
    "        print(f\"{video_id} 데이터가 없습니다.\")\n",
    "        continue\n",
    "\n",
    "    df_video = df_video.sort_values(by=[\"frame\", \"keypoint_index\"])\n",
    "    frames = df_video[\"frame\"].unique()\n",
    "\n",
    "    sequence = []\n",
    "    for f in frames:\n",
    "        df_frame = df_video[df_video[\"frame\"] == f]\n",
    "        coords = df_frame[[\"x\", \"y\"]].values.flatten()\n",
    "        sequence.append(coords)\n",
    "\n",
    "    sequence = np.stack(sequence)  # (프레임 수, 34)\n",
    "    all_sequences1.append(sequence)\n",
    "    all_labels1.append(1) # 위험 클래스 1\n",
    "\n",
    "print(f\"총 시퀀스 개수: {len(all_sequences1)}\")\n",
    "print(f\"첫 시퀀스 shape: {all_sequences1[0].shape}\")"
   ]
  },
  {
   "cell_type": "code",
   "execution_count": 22,
   "id": "dfae0d05",
   "metadata": {},
   "outputs": [
    {
     "name": "stdout",
     "output_type": "stream",
     "text": [
      "    class video_folder           frame  keypoint_index         x         y  \\\n",
      "0  Normal    normal_01  frame_0000.jpg               0  0.491582  0.362946   \n",
      "1  Normal    normal_01  frame_0000.jpg               1  0.499338  0.356676   \n",
      "2  Normal    normal_01  frame_0000.jpg               2  0.483186  0.354573   \n",
      "3  Normal    normal_01  frame_0000.jpg               3  0.507564  0.360179   \n",
      "4  Normal    normal_01  frame_0000.jpg               4  0.473766  0.356689   \n",
      "\n",
      "   confidence  \n",
      "0    0.491786  \n",
      "1    0.523412  \n",
      "2    0.572754  \n",
      "3    0.681367  \n",
      "4    0.676613  \n"
     ]
    }
   ],
   "source": [
    "url = \"https://raw.githubusercontent.com/OpenSourceProgramming-S-H-E/SafePose/refs/heads/develop/keypoint_con/keypoints_normal_con.csv\"\n",
    "df3 = pd.read_csv(url)\n",
    "\n",
    "print(df3.head())"
   ]
  },
  {
   "cell_type": "code",
   "execution_count": 23,
   "id": "2f51ccbd",
   "metadata": {},
   "outputs": [
    {
     "name": "stdout",
     "output_type": "stream",
     "text": [
      "normal_28 데이터가 없습니다.\n",
      "총 시퀀스 개수: 33\n",
      "첫 시퀀스 shape: (271, 34)\n"
     ]
    }
   ],
   "source": [
    "# long format -> 모델에 입력받을 시퀀스 형태로 저장(normal)\n",
    "\n",
    "all_sequences2 = []\n",
    "all_labels2 = []\n",
    "\n",
    "for i in range(1, 35):\n",
    "    video_id = f\"normal_{i:02d}\"\n",
    "    df_video = df3[(df3[\"video_folder\"] == video_id) & (df3[\"class\"] == \"Normal\")]\n",
    "    if df_video.empty:\n",
    "        print(f\"{video_id} 데이터가 없습니다.\")\n",
    "        continue\n",
    "\n",
    "    df_video = df_video.sort_values(by=[\"frame\", \"keypoint_index\"])\n",
    "    frames = df_video[\"frame\"].unique()\n",
    "\n",
    "    sequence = []\n",
    "    for f in frames:\n",
    "        df_frame = df_video[df_video[\"frame\"] == f]\n",
    "        coords = df_frame[[\"x\", \"y\"]].values.flatten()\n",
    "        sequence.append(coords)\n",
    "\n",
    "    sequence = np.stack(sequence)  # (프레임 수, 34)\n",
    "    all_sequences2.append(sequence)\n",
    "    all_labels2.append(0) # 정상 클래스 0\n",
    "\n",
    "print(f\"총 시퀀스 개수: {len(all_sequences2)}\")\n",
    "print(f\"첫 시퀀스 shape: {all_sequences2[0].shape}\")"
   ]
  },
  {
   "cell_type": "code",
   "execution_count": 24,
   "id": "8cde7bfe",
   "metadata": {},
   "outputs": [
    {
     "name": "stdout",
     "output_type": "stream",
     "text": [
      "fall 라벨 개수: 30\n",
      "sus 라벨 개수: 20\n",
      "Normal 라벨 개수: 33\n"
     ]
    }
   ],
   "source": [
    "print(f\"fall 라벨 개수: {len(all_labels)}\")\n",
    "print(f\"sus 라벨 개수: {len(all_labels1)}\")\n",
    "print(f\"Normal 라벨 개수: {len(all_labels2)}\")"
   ]
  },
  {
   "cell_type": "code",
   "execution_count": 25,
   "id": "deba8d63",
   "metadata": {},
   "outputs": [
    {
     "name": "stdout",
     "output_type": "stream",
     "text": [
      "{0, 1, 2}\n"
     ]
    }
   ],
   "source": [
    "# 입력 시퀀스 길이 패딩\n",
    "\n",
    "X_all = all_sequences + all_sequences1 + all_sequences2\n",
    "y_all = all_labels + all_labels1 + all_labels2\n",
    "\n",
    "print(set(y_all))"
   ]
  },
  {
   "cell_type": "code",
   "execution_count": 26,
   "id": "2a29d160",
   "metadata": {},
   "outputs": [],
   "source": [
    "from tensorflow.keras.preprocessing.sequence import pad_sequences\n",
    "import numpy as np\n",
    "\n",
    "MAX_LEN = 271\n",
    "\n",
    "X_all_padded = pad_sequences(X_all, maxlen=MAX_LEN, dtype='float32', padding='post', truncating='post')\n",
    "X_all_padded = np.array(X_all_padded)\n",
    "y_all = np.array(y_all)"
   ]
  },
  {
   "cell_type": "code",
   "execution_count": 27,
   "id": "71780037",
   "metadata": {},
   "outputs": [],
   "source": [
    "from sklearn.preprocessing import MinMaxScaler\n",
    "\n",
    "scaler = MinMaxScaler()\n",
    "X_scaled = np.array([\n",
    "    MinMaxScaler().fit_transform(seq) for seq in X_all_padded\n",
    "])"
   ]
  },
  {
   "cell_type": "code",
   "execution_count": 28,
   "id": "a239227d",
   "metadata": {},
   "outputs": [],
   "source": [
    "# 학습/ 검증용 데이터 분할\n",
    "\n",
    "from sklearn.model_selection import train_test_split\n",
    "\n",
    "X_train, X_val, y_train, y_val = train_test_split(X_scaled, y_all, test_size=0.2, random_state=42, stratify=y_all)"
   ]
  },
  {
   "cell_type": "code",
   "execution_count": 29,
   "id": "589272d9",
   "metadata": {},
   "outputs": [
    {
     "name": "stderr",
     "output_type": "stream",
     "text": [
      "c:\\Users\\Admin\\anaconda3\\Lib\\site-packages\\keras\\src\\layers\\core\\masking.py:48: UserWarning: Do not pass an `input_shape`/`input_dim` argument to a layer. When using Sequential models, prefer using an `Input(shape)` object as the first layer in the model instead.\n",
      "  super().__init__(**kwargs)\n"
     ]
    }
   ],
   "source": [
    "# LSTM 기반 모델 구성 \n",
    "\n",
    "from tensorflow.keras.models import Sequential\n",
    "from tensorflow.keras.layers import LSTM, Dense, Dropout, Masking\n",
    "\n",
    "model = Sequential()\n",
    "model.add(Masking(mask_value=0.0, input_shape=(MAX_LEN, 34)))\n",
    "model.add(LSTM(128, return_sequences=True))\n",
    "model.add(Dropout(0.5))\n",
    "model.add(LSTM(64))\n",
    "model.add(Dropout(0.3))\n",
    "model.add(Dense(64, activation='relu'))\n",
    "model.add(Dense(3, activation='softmax'))\n"
   ]
  },
  {
   "cell_type": "code",
   "execution_count": 30,
   "id": "90c77954",
   "metadata": {},
   "outputs": [
    {
     "data": {
      "text/html": [
       "<pre style=\"white-space:pre;overflow-x:auto;line-height:normal;font-family:Menlo,'DejaVu Sans Mono',consolas,'Courier New',monospace\"><span style=\"font-weight: bold\">Model: \"sequential_1\"</span>\n",
       "</pre>\n"
      ],
      "text/plain": [
       "\u001b[1mModel: \"sequential_1\"\u001b[0m\n"
      ]
     },
     "metadata": {},
     "output_type": "display_data"
    },
    {
     "data": {
      "text/html": [
       "<pre style=\"white-space:pre;overflow-x:auto;line-height:normal;font-family:Menlo,'DejaVu Sans Mono',consolas,'Courier New',monospace\">┏━━━━━━━━━━━━━━━━━━━━━━━━━━━━━━━━━┳━━━━━━━━━━━━━━━━━━━━━━━━┳━━━━━━━━━━━━━━━┓\n",
       "┃<span style=\"font-weight: bold\"> Layer (type)                    </span>┃<span style=\"font-weight: bold\"> Output Shape           </span>┃<span style=\"font-weight: bold\">       Param # </span>┃\n",
       "┡━━━━━━━━━━━━━━━━━━━━━━━━━━━━━━━━━╇━━━━━━━━━━━━━━━━━━━━━━━━╇━━━━━━━━━━━━━━━┩\n",
       "│ masking_1 (<span style=\"color: #0087ff; text-decoration-color: #0087ff\">Masking</span>)             │ (<span style=\"color: #00d7ff; text-decoration-color: #00d7ff\">None</span>, <span style=\"color: #00af00; text-decoration-color: #00af00\">271</span>, <span style=\"color: #00af00; text-decoration-color: #00af00\">34</span>)        │             <span style=\"color: #00af00; text-decoration-color: #00af00\">0</span> │\n",
       "├─────────────────────────────────┼────────────────────────┼───────────────┤\n",
       "│ lstm_2 (<span style=\"color: #0087ff; text-decoration-color: #0087ff\">LSTM</span>)                   │ (<span style=\"color: #00d7ff; text-decoration-color: #00d7ff\">None</span>, <span style=\"color: #00af00; text-decoration-color: #00af00\">271</span>, <span style=\"color: #00af00; text-decoration-color: #00af00\">128</span>)       │        <span style=\"color: #00af00; text-decoration-color: #00af00\">83,456</span> │\n",
       "├─────────────────────────────────┼────────────────────────┼───────────────┤\n",
       "│ dropout_2 (<span style=\"color: #0087ff; text-decoration-color: #0087ff\">Dropout</span>)             │ (<span style=\"color: #00d7ff; text-decoration-color: #00d7ff\">None</span>, <span style=\"color: #00af00; text-decoration-color: #00af00\">271</span>, <span style=\"color: #00af00; text-decoration-color: #00af00\">128</span>)       │             <span style=\"color: #00af00; text-decoration-color: #00af00\">0</span> │\n",
       "├─────────────────────────────────┼────────────────────────┼───────────────┤\n",
       "│ lstm_3 (<span style=\"color: #0087ff; text-decoration-color: #0087ff\">LSTM</span>)                   │ (<span style=\"color: #00d7ff; text-decoration-color: #00d7ff\">None</span>, <span style=\"color: #00af00; text-decoration-color: #00af00\">64</span>)             │        <span style=\"color: #00af00; text-decoration-color: #00af00\">49,408</span> │\n",
       "├─────────────────────────────────┼────────────────────────┼───────────────┤\n",
       "│ dropout_3 (<span style=\"color: #0087ff; text-decoration-color: #0087ff\">Dropout</span>)             │ (<span style=\"color: #00d7ff; text-decoration-color: #00d7ff\">None</span>, <span style=\"color: #00af00; text-decoration-color: #00af00\">64</span>)             │             <span style=\"color: #00af00; text-decoration-color: #00af00\">0</span> │\n",
       "├─────────────────────────────────┼────────────────────────┼───────────────┤\n",
       "│ dense_2 (<span style=\"color: #0087ff; text-decoration-color: #0087ff\">Dense</span>)                 │ (<span style=\"color: #00d7ff; text-decoration-color: #00d7ff\">None</span>, <span style=\"color: #00af00; text-decoration-color: #00af00\">64</span>)             │         <span style=\"color: #00af00; text-decoration-color: #00af00\">4,160</span> │\n",
       "├─────────────────────────────────┼────────────────────────┼───────────────┤\n",
       "│ dense_3 (<span style=\"color: #0087ff; text-decoration-color: #0087ff\">Dense</span>)                 │ (<span style=\"color: #00d7ff; text-decoration-color: #00d7ff\">None</span>, <span style=\"color: #00af00; text-decoration-color: #00af00\">3</span>)              │           <span style=\"color: #00af00; text-decoration-color: #00af00\">195</span> │\n",
       "└─────────────────────────────────┴────────────────────────┴───────────────┘\n",
       "</pre>\n"
      ],
      "text/plain": [
       "┏━━━━━━━━━━━━━━━━━━━━━━━━━━━━━━━━━┳━━━━━━━━━━━━━━━━━━━━━━━━┳━━━━━━━━━━━━━━━┓\n",
       "┃\u001b[1m \u001b[0m\u001b[1mLayer (type)                   \u001b[0m\u001b[1m \u001b[0m┃\u001b[1m \u001b[0m\u001b[1mOutput Shape          \u001b[0m\u001b[1m \u001b[0m┃\u001b[1m \u001b[0m\u001b[1m      Param #\u001b[0m\u001b[1m \u001b[0m┃\n",
       "┡━━━━━━━━━━━━━━━━━━━━━━━━━━━━━━━━━╇━━━━━━━━━━━━━━━━━━━━━━━━╇━━━━━━━━━━━━━━━┩\n",
       "│ masking_1 (\u001b[38;5;33mMasking\u001b[0m)             │ (\u001b[38;5;45mNone\u001b[0m, \u001b[38;5;34m271\u001b[0m, \u001b[38;5;34m34\u001b[0m)        │             \u001b[38;5;34m0\u001b[0m │\n",
       "├─────────────────────────────────┼────────────────────────┼───────────────┤\n",
       "│ lstm_2 (\u001b[38;5;33mLSTM\u001b[0m)                   │ (\u001b[38;5;45mNone\u001b[0m, \u001b[38;5;34m271\u001b[0m, \u001b[38;5;34m128\u001b[0m)       │        \u001b[38;5;34m83,456\u001b[0m │\n",
       "├─────────────────────────────────┼────────────────────────┼───────────────┤\n",
       "│ dropout_2 (\u001b[38;5;33mDropout\u001b[0m)             │ (\u001b[38;5;45mNone\u001b[0m, \u001b[38;5;34m271\u001b[0m, \u001b[38;5;34m128\u001b[0m)       │             \u001b[38;5;34m0\u001b[0m │\n",
       "├─────────────────────────────────┼────────────────────────┼───────────────┤\n",
       "│ lstm_3 (\u001b[38;5;33mLSTM\u001b[0m)                   │ (\u001b[38;5;45mNone\u001b[0m, \u001b[38;5;34m64\u001b[0m)             │        \u001b[38;5;34m49,408\u001b[0m │\n",
       "├─────────────────────────────────┼────────────────────────┼───────────────┤\n",
       "│ dropout_3 (\u001b[38;5;33mDropout\u001b[0m)             │ (\u001b[38;5;45mNone\u001b[0m, \u001b[38;5;34m64\u001b[0m)             │             \u001b[38;5;34m0\u001b[0m │\n",
       "├─────────────────────────────────┼────────────────────────┼───────────────┤\n",
       "│ dense_2 (\u001b[38;5;33mDense\u001b[0m)                 │ (\u001b[38;5;45mNone\u001b[0m, \u001b[38;5;34m64\u001b[0m)             │         \u001b[38;5;34m4,160\u001b[0m │\n",
       "├─────────────────────────────────┼────────────────────────┼───────────────┤\n",
       "│ dense_3 (\u001b[38;5;33mDense\u001b[0m)                 │ (\u001b[38;5;45mNone\u001b[0m, \u001b[38;5;34m3\u001b[0m)              │           \u001b[38;5;34m195\u001b[0m │\n",
       "└─────────────────────────────────┴────────────────────────┴───────────────┘\n"
      ]
     },
     "metadata": {},
     "output_type": "display_data"
    },
    {
     "data": {
      "text/html": [
       "<pre style=\"white-space:pre;overflow-x:auto;line-height:normal;font-family:Menlo,'DejaVu Sans Mono',consolas,'Courier New',monospace\"><span style=\"font-weight: bold\"> Total params: </span><span style=\"color: #00af00; text-decoration-color: #00af00\">137,219</span> (536.01 KB)\n",
       "</pre>\n"
      ],
      "text/plain": [
       "\u001b[1m Total params: \u001b[0m\u001b[38;5;34m137,219\u001b[0m (536.01 KB)\n"
      ]
     },
     "metadata": {},
     "output_type": "display_data"
    },
    {
     "data": {
      "text/html": [
       "<pre style=\"white-space:pre;overflow-x:auto;line-height:normal;font-family:Menlo,'DejaVu Sans Mono',consolas,'Courier New',monospace\"><span style=\"font-weight: bold\"> Trainable params: </span><span style=\"color: #00af00; text-decoration-color: #00af00\">137,219</span> (536.01 KB)\n",
       "</pre>\n"
      ],
      "text/plain": [
       "\u001b[1m Trainable params: \u001b[0m\u001b[38;5;34m137,219\u001b[0m (536.01 KB)\n"
      ]
     },
     "metadata": {},
     "output_type": "display_data"
    },
    {
     "data": {
      "text/html": [
       "<pre style=\"white-space:pre;overflow-x:auto;line-height:normal;font-family:Menlo,'DejaVu Sans Mono',consolas,'Courier New',monospace\"><span style=\"font-weight: bold\"> Non-trainable params: </span><span style=\"color: #00af00; text-decoration-color: #00af00\">0</span> (0.00 B)\n",
       "</pre>\n"
      ],
      "text/plain": [
       "\u001b[1m Non-trainable params: \u001b[0m\u001b[38;5;34m0\u001b[0m (0.00 B)\n"
      ]
     },
     "metadata": {},
     "output_type": "display_data"
    }
   ],
   "source": [
    "# 모델 컴파일\n",
    "\n",
    "model.compile(\n",
    "    optimizer='adam',\n",
    "    loss='sparse_categorical_crossentropy', \n",
    "    metrics=['accuracy']\n",
    ")\n",
    "\n",
    "model.summary()"
   ]
  },
  {
   "cell_type": "code",
   "execution_count": 31,
   "id": "9044a23e",
   "metadata": {},
   "outputs": [
    {
     "name": "stdout",
     "output_type": "stream",
     "text": [
      "Epoch 1/20\n",
      "\u001b[1m5/5\u001b[0m \u001b[32m━━━━━━━━━━━━━━━━━━━━\u001b[0m\u001b[37m\u001b[0m \u001b[1m6s\u001b[0m 396ms/step - accuracy: 0.2664 - loss: 1.1160 - val_accuracy: 0.4118 - val_loss: 1.0774\n",
      "Epoch 2/20\n",
      "\u001b[1m5/5\u001b[0m \u001b[32m━━━━━━━━━━━━━━━━━━━━\u001b[0m\u001b[37m\u001b[0m \u001b[1m1s\u001b[0m 260ms/step - accuracy: 0.3673 - loss: 1.1075 - val_accuracy: 0.4118 - val_loss: 1.0826\n",
      "Epoch 3/20\n",
      "\u001b[1m5/5\u001b[0m \u001b[32m━━━━━━━━━━━━━━━━━━━━\u001b[0m\u001b[37m\u001b[0m \u001b[1m2s\u001b[0m 323ms/step - accuracy: 0.3447 - loss: 1.1280 - val_accuracy: 0.4118 - val_loss: 1.0576\n",
      "Epoch 4/20\n",
      "\u001b[1m5/5\u001b[0m \u001b[32m━━━━━━━━━━━━━━━━━━━━\u001b[0m\u001b[37m\u001b[0m \u001b[1m1s\u001b[0m 293ms/step - accuracy: 0.4463 - loss: 1.0594 - val_accuracy: 0.5882 - val_loss: 1.0531\n",
      "Epoch 5/20\n",
      "\u001b[1m5/5\u001b[0m \u001b[32m━━━━━━━━━━━━━━━━━━━━\u001b[0m\u001b[37m\u001b[0m \u001b[1m1s\u001b[0m 262ms/step - accuracy: 0.3419 - loss: 1.1067 - val_accuracy: 0.3529 - val_loss: 1.0737\n",
      "Epoch 6/20\n",
      "\u001b[1m5/5\u001b[0m \u001b[32m━━━━━━━━━━━━━━━━━━━━\u001b[0m\u001b[37m\u001b[0m \u001b[1m1s\u001b[0m 299ms/step - accuracy: 0.3842 - loss: 1.0733 - val_accuracy: 0.5882 - val_loss: 1.0535\n",
      "Epoch 7/20\n",
      "\u001b[1m5/5\u001b[0m \u001b[32m━━━━━━━━━━━━━━━━━━━━\u001b[0m\u001b[37m\u001b[0m \u001b[1m2s\u001b[0m 331ms/step - accuracy: 0.4550 - loss: 1.0724 - val_accuracy: 0.4706 - val_loss: 1.0535\n",
      "Epoch 8/20\n",
      "\u001b[1m5/5\u001b[0m \u001b[32m━━━━━━━━━━━━━━━━━━━━\u001b[0m\u001b[37m\u001b[0m \u001b[1m2s\u001b[0m 330ms/step - accuracy: 0.4044 - loss: 1.0861 - val_accuracy: 0.4706 - val_loss: 1.0593\n",
      "Epoch 9/20\n",
      "\u001b[1m5/5\u001b[0m \u001b[32m━━━━━━━━━━━━━━━━━━━━\u001b[0m\u001b[37m\u001b[0m \u001b[1m1s\u001b[0m 288ms/step - accuracy: 0.4044 - loss: 1.0840 - val_accuracy: 0.4118 - val_loss: 1.0593\n",
      "Epoch 10/20\n",
      "\u001b[1m5/5\u001b[0m \u001b[32m━━━━━━━━━━━━━━━━━━━━\u001b[0m\u001b[37m\u001b[0m \u001b[1m1s\u001b[0m 298ms/step - accuracy: 0.4640 - loss: 1.0578 - val_accuracy: 0.6471 - val_loss: 1.0015\n",
      "Epoch 11/20\n",
      "\u001b[1m5/5\u001b[0m \u001b[32m━━━━━━━━━━━━━━━━━━━━\u001b[0m\u001b[37m\u001b[0m \u001b[1m1s\u001b[0m 278ms/step - accuracy: 0.4082 - loss: 1.0463 - val_accuracy: 0.6471 - val_loss: 0.9855\n",
      "Epoch 12/20\n",
      "\u001b[1m5/5\u001b[0m \u001b[32m━━━━━━━━━━━━━━━━━━━━\u001b[0m\u001b[37m\u001b[0m \u001b[1m1s\u001b[0m 277ms/step - accuracy: 0.4786 - loss: 1.0446 - val_accuracy: 0.5882 - val_loss: 0.9629\n",
      "Epoch 13/20\n",
      "\u001b[1m5/5\u001b[0m \u001b[32m━━━━━━━━━━━━━━━━━━━━\u001b[0m\u001b[37m\u001b[0m \u001b[1m2s\u001b[0m 342ms/step - accuracy: 0.4571 - loss: 0.9758 - val_accuracy: 0.5294 - val_loss: 0.9724\n",
      "Epoch 14/20\n",
      "\u001b[1m5/5\u001b[0m \u001b[32m━━━━━━━━━━━━━━━━━━━━\u001b[0m\u001b[37m\u001b[0m \u001b[1m1s\u001b[0m 271ms/step - accuracy: 0.5140 - loss: 1.0039 - val_accuracy: 0.5294 - val_loss: 0.9248\n",
      "Epoch 15/20\n",
      "\u001b[1m5/5\u001b[0m \u001b[32m━━━━━━━━━━━━━━━━━━━━\u001b[0m\u001b[37m\u001b[0m \u001b[1m1s\u001b[0m 270ms/step - accuracy: 0.6264 - loss: 0.9274 - val_accuracy: 0.3529 - val_loss: 1.0728\n",
      "Epoch 16/20\n",
      "\u001b[1m5/5\u001b[0m \u001b[32m━━━━━━━━━━━━━━━━━━━━\u001b[0m\u001b[37m\u001b[0m \u001b[1m1s\u001b[0m 274ms/step - accuracy: 0.4001 - loss: 1.1098 - val_accuracy: 0.4118 - val_loss: 1.0472\n",
      "Epoch 17/20\n",
      "\u001b[1m5/5\u001b[0m \u001b[32m━━━━━━━━━━━━━━━━━━━━\u001b[0m\u001b[37m\u001b[0m \u001b[1m1s\u001b[0m 270ms/step - accuracy: 0.4291 - loss: 1.0717 - val_accuracy: 0.5294 - val_loss: 0.9641\n",
      "Epoch 18/20\n",
      "\u001b[1m5/5\u001b[0m \u001b[32m━━━━━━━━━━━━━━━━━━━━\u001b[0m\u001b[37m\u001b[0m \u001b[1m1s\u001b[0m 290ms/step - accuracy: 0.5264 - loss: 1.0134 - val_accuracy: 0.4118 - val_loss: 1.0389\n",
      "Epoch 19/20\n",
      "\u001b[1m5/5\u001b[0m \u001b[32m━━━━━━━━━━━━━━━━━━━━\u001b[0m\u001b[37m\u001b[0m \u001b[1m2s\u001b[0m 209ms/step - accuracy: 0.5360 - loss: 1.0246 - val_accuracy: 0.5294 - val_loss: 0.9668\n",
      "Epoch 20/20\n",
      "\u001b[1m5/5\u001b[0m \u001b[32m━━━━━━━━━━━━━━━━━━━━\u001b[0m\u001b[37m\u001b[0m \u001b[1m1s\u001b[0m 277ms/step - accuracy: 0.4057 - loss: 1.0442 - val_accuracy: 0.6471 - val_loss: 0.9352\n"
     ]
    },
    {
     "data": {
      "text/plain": [
       "<keras.src.callbacks.history.History at 0x2bd3b29eff0>"
      ]
     },
     "execution_count": 31,
     "metadata": {},
     "output_type": "execute_result"
    }
   ],
   "source": [
    "model.fit(X_train, y_train, epochs=20, batch_size=16, validation_data=(X_val, y_val))"
   ]
  },
  {
   "cell_type": "code",
   "execution_count": 32,
   "id": "469673cc",
   "metadata": {},
   "outputs": [
    {
     "name": "stderr",
     "output_type": "stream",
     "text": [
      "WARNING:absl:You are saving your model as an HDF5 file via `model.save()` or `keras.saving.save_model(model)`. This file format is considered legacy. We recommend using instead the native Keras format, e.g. `model.save('my_model.keras')` or `keras.saving.save_model(model, 'my_model.keras')`. \n"
     ]
    }
   ],
   "source": [
    "model.save(\"fall_detection_model.h5\")"
   ]
  },
  {
   "cell_type": "code",
   "execution_count": 33,
   "id": "4932dc60",
   "metadata": {},
   "outputs": [
    {
     "name": "stdout",
     "output_type": "stream",
     "text": [
      "\u001b[1m1/1\u001b[0m \u001b[32m━━━━━━━━━━━━━━━━━━━━\u001b[0m\u001b[37m\u001b[0m \u001b[1m1s\u001b[0m 556ms/step\n",
      "📊 Classification Report\n",
      "              precision    recall  f1-score   support\n",
      "\n",
      "      Normal       0.64      1.00      0.78         7\n",
      "  Suspicious       0.00      0.00      0.00         4\n",
      "        Fall       0.67      0.67      0.67         6\n",
      "\n",
      "    accuracy                           0.65        17\n",
      "   macro avg       0.43      0.56      0.48        17\n",
      "weighted avg       0.50      0.65      0.56        17\n",
      "\n"
     ]
    },
    {
     "name": "stderr",
     "output_type": "stream",
     "text": [
      "c:\\Users\\Admin\\anaconda3\\Lib\\site-packages\\sklearn\\metrics\\_classification.py:1531: UndefinedMetricWarning: Precision is ill-defined and being set to 0.0 in labels with no predicted samples. Use `zero_division` parameter to control this behavior.\n",
      "  _warn_prf(average, modifier, f\"{metric.capitalize()} is\", len(result))\n",
      "c:\\Users\\Admin\\anaconda3\\Lib\\site-packages\\sklearn\\metrics\\_classification.py:1531: UndefinedMetricWarning: Precision is ill-defined and being set to 0.0 in labels with no predicted samples. Use `zero_division` parameter to control this behavior.\n",
      "  _warn_prf(average, modifier, f\"{metric.capitalize()} is\", len(result))\n",
      "c:\\Users\\Admin\\anaconda3\\Lib\\site-packages\\sklearn\\metrics\\_classification.py:1531: UndefinedMetricWarning: Precision is ill-defined and being set to 0.0 in labels with no predicted samples. Use `zero_division` parameter to control this behavior.\n",
      "  _warn_prf(average, modifier, f\"{metric.capitalize()} is\", len(result))\n"
     ]
    },
    {
     "data": {
      "image/png": "[encoded data removed]",
      "text/plain": [
       "<Figure size 600x400 with 2 Axes>"
      ]
     },
     "metadata": {},
     "output_type": "display_data"
    }
   ],
   "source": [
    "from sklearn.metrics import classification_report, confusion_matrix\n",
    "import numpy as np\n",
    "import matplotlib.pyplot as plt\n",
    "import seaborn as sns\n",
    "\n",
    "# 예측\n",
    "y_pred = model.predict(X_val)\n",
    "y_pred_label = np.argmax(y_pred, axis=1)\n",
    "y_true_label = y_val  \n",
    "\n",
    "# 평가 결과 출력\n",
    "print(\"📊 Classification Report\")\n",
    "print(classification_report(y_true_label, y_pred_label, target_names=['Normal', 'Suspicious', 'Fall']))\n",
    "\n",
    "# confusion matrix 시각화\n",
    "cm = confusion_matrix(y_true_label, y_pred_label)\n",
    "plt.figure(figsize=(6, 4))\n",
    "sns.heatmap(cm, annot=True, fmt='d', cmap='Blues',\n",
    "            xticklabels=['Normal', 'Suspicious', 'Fall'],\n",
    "            yticklabels=['Normal', 'Suspicious', 'Fall'])\n",
    "plt.xlabel(\"Predicted\")\n",
    "plt.ylabel(\"True\")\n",
    "plt.title(\"Confusion Matrix\")\n",
    "plt.show()\n"
   ]
  }
 ],
 "metadata": {
  "kernelspec": {
   "display_name": "base",
   "language": "python",
   "name": "python3"
  },
  "language_info": {
   "codemirror_mode": {
    "name": "ipython",
    "version": 3
   },
   "file_extension": ".py",
   "mimetype": "text/x-python",
   "name": "python",
   "nbconvert_exporter": "python",
   "pygments_lexer": "ipython3",
   "version": "3.12.7"
  }
 },
 "nbformat": 4,
 "nbformat_minor": 5
}
